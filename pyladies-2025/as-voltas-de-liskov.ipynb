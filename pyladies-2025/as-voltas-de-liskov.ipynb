{
 "cells": [
  {
   "cell_type": "markdown",
   "id": "a3622836-1e85-4c9f-98db-5360a1608630",
   "metadata": {
    "jp-MarkdownHeadingCollapsed": true
   },
   "source": [
    "# As voltas de Liskov: iteradores em Python\n",
    "\n",
    "## A instrução `for`\n",
    "\n",
    "### Problema\n",
    "\n",
    "Escreva um programa que exibe os argumentos passados na linha de comando:\n",
    "\n",
    "```shell\n",
    "$ ./args açaí banana carambola\n",
    "./args\n",
    "açaí\n",
    "banana\n",
    "carambola\n",
    "```\n",
    "\n",
    "### C\n",
    "\n",
    "```C\n",
    "#include <stdio.h>\n",
    "\n",
    "int main(int argc, char *argv[]) {\n",
    "    for(int i = 0; i < argc; i++)\n",
    "        printf(\"%s\\n\", argv[i]);\n",
    "    return 0;\n",
    "}\n",
    "```\n",
    "\n",
    "### Python\n",
    "\n",
    "```python\n",
    "import sys\n",
    "\n",
    "for arg in sys.argv:\n",
    "    print(arg)\n",
    "```"
   ]
  },
  {
   "cell_type": "markdown",
   "id": "e2343d62-ebb1-4de4-8052-b60be1021a03",
   "metadata": {},
   "source": [
    "### Citação\n",
    "\n",
    "> Há 2 problemas difíceis em ciência da computação:<br>invalidar cache, nomear coisas e errar por 1.\n",
    "<br>—*Leon Bambrick*\n",
    "\n",
    "Duas variantes de *erro-por-1* ao percorrer uma coleção em C:\n",
    "\n",
    "1. laço termina no penúltimo item, o último é ignorado;\n",
    "2. laço vai além do último item, acessando\n",
    "memória inválida ([*segfault*](https://pt.wikipedia.org/wiki/Falha_de_segmenta%C3%A7%C3%A3o)) ou levantando exceção.\n",
    "\n",
    "A semântica do `for` em Python praticamente elimina esses erros."
   ]
  },
  {
   "cell_type": "markdown",
   "id": "40c8ea13-44a3-4a48-9329-ab0b3796d3b3",
   "metadata": {},
   "source": [
    "## A solução geral: iteráveis e iteradores\n",
    "\n",
    "### Iteráveis\n",
    "\n",
    "**Comestível:** que pode ser comida\n",
    "\n",
    "**Legível:** que pode ser lida\n",
    "\n",
    "**Iterável:** que pode ser iterada (repetida)\n",
    "\n",
    "Em programação, **iterável** é uma coleção que pode ser acessada item a item em uma estrutura de iteração.\n",
    "\n",
    "Java não tinha o conceito de iterável até a versão 5 (2004). Python sempre teve, desde 1991.\n",
    "\n",
    "### Iterador\n",
    "\n",
    "Um objeto que implementa uma *interface padrão* para acessar o próximo item de uma coleção.\n",
    "\n",
    "Em Python, essa interface tem um método: `__next__` (que invocamos através de `next(coleção)`)"
   ]
  },
  {
   "cell_type": "markdown",
   "id": "a9477443-b1e3-4ee5-b4e3-2d4acf070591",
   "metadata": {},
   "source": [
    "## O padrão de projeto Iterator\n",
    "\n",
    "Fonte: [O Poder dos Geradores (16)](https://speakerdeck.com/ramalho/o-poder-dos-geradores?slide=16)\n",
    "\n",
    "<img src=\"iterator-gof.png\" style=\"width: 640px;\"/>\n",
    "\n",
    "<hr/>\n",
    "\n",
    "Fonte: [O Poder dos Geradores (17)](https://speakerdeck.com/ramalho/o-poder-dos-geradores?slide=17)\n",
    "\n",
    "<img src=\"iterator-poster.png\" style=\"width: 640px;\"/>"
   ]
  },
  {
   "cell_type": "markdown",
   "id": "2c1f139e-935f-44d9-86ea-ffc5ac82ca4e",
   "metadata": {},
   "source": [
    "### Implementação \"clássica\" de Iterator em Python\n",
    "\n",
    "(código não *pythônico* para ilustrar o padrão do GoF)"
   ]
  },
  {
   "cell_type": "code",
   "execution_count": 1,
   "id": "eaeeff31-cab9-4b15-bf9d-4bf1ba99bcd1",
   "metadata": {},
   "outputs": [],
   "source": [
    "class Trem:\n",
    "    def __init__(self, carros):\n",
    "        self.carros = carros\n",
    "    \n",
    "    def __iter__(self):\n",
    "        return IterTrem(self.carros)\n",
    "\n",
    "class IterTrem:\n",
    "    def __init__(self, carros):\n",
    "        self.próximo = 0\n",
    "        self.último = carros - 1\n",
    "    \n",
    "    def __next__(self):\n",
    "        if self.próximo <= self.último:\n",
    "            self.próximo += 1\n",
    "            return f'carro #{(self.próximo)}'\n",
    "        else:\n",
    "            raise StopIteration()"
   ]
  },
  {
   "cell_type": "code",
   "execution_count": 2,
   "id": "dfc07273-e245-4c5d-9c46-a67fd41d76b9",
   "metadata": {},
   "outputs": [
    {
     "name": "stdout",
     "output_type": "stream",
     "text": [
      "carro #1\n",
      "carro #2\n",
      "carro #3\n"
     ]
    }
   ],
   "source": [
    "trem = Trem(3)\n",
    "\n",
    "for carro in trem:\n",
    "    print(carro)"
   ]
  },
  {
   "cell_type": "markdown",
   "id": "92e95a12-bd8d-4df4-ab74-7782344e84de",
   "metadata": {},
   "source": [
    "### Citação\n",
    "\n",
    "> Por exemplo, no mundo da orientação a objetos,<br>ouve-se muito sobre \"padrões\".<br>\n",
    "> Me pergunto se esses padrões não são, às vezes,<br>evidências [...] do *compilador humano* em ação.<br>\n",
    "> —*Paul Graham*\n",
    "\n",
    "Fonte: [Are Design Patterns Missing Language Features?](https://wiki.c2.com/?AreDesignPatternsMissingLanguageFeatures)\n",
    "(_Será que os padrões de projetos são recursos faltando em uma linguagem?_)"
   ]
  },
  {
   "cell_type": "markdown",
   "id": "a7c65706-5650-4fcf-9437-7fd6636a60a5",
   "metadata": {},
   "source": [
    "### Implementação pythônica"
   ]
  },
  {
   "cell_type": "code",
   "execution_count": 3,
   "id": "4521fdc0-bd23-42e7-96a0-16b20cc14f13",
   "metadata": {},
   "outputs": [],
   "source": [
    "class Trem:\n",
    "    def __init__(self, carros):\n",
    "        self.carros = carros\n",
    "    \n",
    "    def __iter__(self):\n",
    "        for n in range(self.carros):\n",
    "            yield f'carro #{n}'"
   ]
  },
  {
   "cell_type": "code",
   "execution_count": 4,
   "id": "99dd5300-b594-4ece-bbcd-cbd986f5a008",
   "metadata": {},
   "outputs": [
    {
     "name": "stdout",
     "output_type": "stream",
     "text": [
      "carro #0\n",
      "carro #1\n",
      "carro #2\n"
     ]
    }
   ],
   "source": [
    "trem = Trem(3)\n",
    "\n",
    "for carro in trem:\n",
    "    print(carro)"
   ]
  },
  {
   "cell_type": "markdown",
   "id": "10f88d61-fe21-4d26-9924-6f83817f992c",
   "metadata": {},
   "source": [
    "## Como funciona o yield"
   ]
  },
  {
   "cell_type": "code",
   "execution_count": 5,
   "id": "ad567f83-fa55-44f5-9019-ca59e3ebb1b7",
   "metadata": {},
   "outputs": [],
   "source": [
    "def gen123():\n",
    "    ..."
   ]
  },
  {
   "cell_type": "code",
   "execution_count": null,
   "id": "8b2fd540-10c5-4812-b1b8-b4652fa00c4f",
   "metadata": {},
   "outputs": [],
   "source": []
  },
  {
   "cell_type": "code",
   "execution_count": 6,
   "id": "5194978e-4092-44d9-8df3-ad116bb1ea9d",
   "metadata": {},
   "outputs": [],
   "source": [
    "def genAB():\n",
    "    ..."
   ]
  },
  {
   "cell_type": "code",
   "execution_count": null,
   "id": "94142d10-5255-4fe3-9c42-7ca7b8d02015",
   "metadata": {},
   "outputs": [],
   "source": []
  },
  {
   "cell_type": "markdown",
   "id": "357903f8-2e6c-4ad1-a337-1906aaab7ed3",
   "metadata": {},
   "source": [
    "### Reinventando xrange"
   ]
  },
  {
   "cell_type": "code",
   "execution_count": 7,
   "id": "e81d3de6-f26c-46df-8b03-a50e63086338",
   "metadata": {},
   "outputs": [],
   "source": [
    "def zrange(n):\n",
    "    ..."
   ]
  },
  {
   "cell_type": "code",
   "execution_count": null,
   "id": "2c1a9b8c-f973-4e21-b198-e20602da062c",
   "metadata": {},
   "outputs": [],
   "source": []
  },
  {
   "cell_type": "markdown",
   "id": "5fe7c689-5454-4173-9032-8c9e7e98514d",
   "metadata": {},
   "source": [
    "### Reescrevendo `for` com `while`"
   ]
  },
  {
   "cell_type": "code",
   "execution_count": 8,
   "id": "75171e03-a102-4f48-baa1-c6d3f29c0ce4",
   "metadata": {},
   "outputs": [
    {
     "name": "stdout",
     "output_type": "stream",
     "text": [
      "A\n",
      "B\n",
      "C\n"
     ]
    }
   ],
   "source": [
    "iterador = iter('ABC')\n",
    "while True:\n",
    "    try:\n",
    "        item = next(iterador)\n",
    "    except StopIteration:\n",
    "        del iterador\n",
    "        break\n",
    "    print(item)\n",
    "        "
   ]
  },
  {
   "cell_type": "markdown",
   "id": "a908bdd8-66f0-4f6d-bb47-9520b7d77517",
   "metadata": {},
   "source": [
    "## A história do yield\n",
    "\n",
    "Fonte: [Generator Power (11)](https://speakerdeck.com/ramalho/python-generator-power?slide=11)\n",
    "\n",
    "<img src=\"liskov-CLU.png\" style=\"width: 640px;\"/>"
   ]
  },
  {
   "cell_type": "markdown",
   "id": "71d8294f-510e-41f3-a749-b13b99773c92",
   "metadata": {},
   "source": [
    "### Homenageadas com o prêmio Turing até 2025\n",
    "\n",
    "* **Frances E. Allen (2006):** teoria e prática de otimização de compiladores.\n",
    "* **[Barbara Liskov (2008)](https://amturing.acm.org/award_winners/liskov_1108679.cfm):** fundamentos de linguagens de programação (tipos abstratos) e sistemas distribuídos tolerantes a falha.\n",
    "* **Shafi Goldwasser (2012):** fundamentos teóricos para a criptografia, incluindo criptografia probabilística.\n"
   ]
  },
  {
   "cell_type": "markdown",
   "id": "209a62c2-5871-4de4-8c91-e889350db5ae",
   "metadata": {},
   "source": [
    "### A linguagem CLU\n",
    "\n",
    "A definição de um novo tipo é um *cluster* (semelhante a classe, antes de existir OOP).\n",
    "\n",
    "> Objetos do subtipo devem se comportar da mesma forma que os do supertipo,<br>\n",
    "> até onde qualquer programa que use objetos do supertipo possa perceber.<br>\n",
    "> —*Princípio da substituição de Liskov*\n",
    "\n",
    "Outras características que influenciaram linguagens atuais:\n",
    "\n",
    "* exceções com `signal/except`\n",
    "* atribuição paralela: `x,y,z := f(t)`\n",
    "* iteradores com `yield`\n",
    "\n",
    "Fonte: [Generator Power (12)](https://speakerdeck.com/ramalho/python-generator-power?slide=12)\n",
    "\n",
    "<img src=\"liskov-yield-for.png\" style=\"width: 640px;\"/>"
   ]
  },
  {
   "cell_type": "markdown",
   "id": "a0f82009-b03b-4609-9555-e065d66c8c7b",
   "metadata": {},
   "source": [
    "## Iteradores/geradores essenciais em Python\n",
    "\n",
    "```\n",
    "iterador ≈ gerador  # sinônimos na comunidade Python\n",
    "```\n",
    "\n",
    "Uso _gerador_ quando se trata de séries infinitas. Ex: gerador de números de Fibonacci.\n",
    "\n",
    "### Como gerar uma série de números?\n",
    "\n",
    "```C\n",
    "    for(int i = 0; i < stop; i++)\n",
    "        ...\n",
    "```\n",
    "\n",
    "```python\n",
    "    for i in range(stop):\n",
    "        ...\n",
    "```\n",
    "\n",
    "### Como numerar uma série de itens?\n",
    "\n",
    "Vamos reinventar `enumerate`:"
   ]
  },
  {
   "cell_type": "code",
   "execution_count": 9,
   "id": "0aee6aa8-1443-4f5c-aa42-5ca71bc256e1",
   "metadata": {},
   "outputs": [],
   "source": [
    "def zenum(iterável):\n",
    "    ..."
   ]
  },
  {
   "cell_type": "code",
   "execution_count": null,
   "id": "539dbcb5-1170-4b84-81f3-c9b25b6fdc78",
   "metadata": {},
   "outputs": [],
   "source": []
  },
  {
   "cell_type": "markdown",
   "id": "55dc7963-1be6-4b52-8f47-1180e916731b",
   "metadata": {},
   "source": [
    "### Como percorrer duas coleções em paralelo?\n",
    "\n",
    "Vamos reinventar `zip`:"
   ]
  },
  {
   "cell_type": "code",
   "execution_count": 10,
   "id": "082420d4-8703-4df2-a83d-43a097ceeea5",
   "metadata": {},
   "outputs": [],
   "source": [
    "def zzip(a, b):\n",
    "    ..."
   ]
  },
  {
   "cell_type": "code",
   "execution_count": null,
   "id": "b0594bab-4577-4345-8eb0-93eeee5715e3",
   "metadata": {},
   "outputs": [],
   "source": []
  },
  {
   "cell_type": "markdown",
   "id": "b076b2c1-a6bd-4f48-8be3-6a43ea242da2",
   "metadata": {},
   "source": [
    "## O pacote `itertools` 👀\n",
    "\n",
    "https://docs.python.org/pt-br/3.13/library/itertools.html"
   ]
  },
  {
   "cell_type": "markdown",
   "id": "95a76a64-2df1-48f8-ad00-de03d67c2b50",
   "metadata": {},
   "source": [
    "## Bônus: expressões geradoras"
   ]
  },
  {
   "cell_type": "code",
   "execution_count": 11,
   "id": "5772eebf-1d97-4b01-b71a-103d9c21a414",
   "metadata": {},
   "outputs": [
    {
     "data": {
      "text/plain": [
       "<generator object <genexpr> at 0x7b8c20294fb0>"
      ]
     },
     "execution_count": 11,
     "metadata": {},
     "output_type": "execute_result"
    }
   ],
   "source": [
    "s = 'banana'\n",
    "g = (ord(c) for c in s)\n",
    "g"
   ]
  },
  {
   "cell_type": "code",
   "execution_count": 12,
   "id": "1c35fce8-4144-40cd-accd-b8540dd49c73",
   "metadata": {},
   "outputs": [
    {
     "name": "stdout",
     "output_type": "stream",
     "text": [
      "98\n",
      "97\n",
      "110\n",
      "97\n",
      "110\n",
      "97\n"
     ]
    }
   ],
   "source": [
    "for l in g:\n",
    "    print(l)"
   ]
  },
  {
   "cell_type": "markdown",
   "id": "0ed4d2f3-ece0-4258-8465-bba961768a23",
   "metadata": {},
   "source": [
    "### Um caso de uso"
   ]
  },
  {
   "cell_type": "code",
   "execution_count": 13,
   "id": "a8338638-6b00-4e4c-a656-b935910ead70",
   "metadata": {},
   "outputs": [
    {
     "name": "stdout",
     "output_type": "stream",
     "text": [
      "b\n",
      "n\n",
      "n\n"
     ]
    }
   ],
   "source": [
    "for vogal in (c for c in s if c not in 'aeiou'):\n",
    "    print(vogal)"
   ]
  },
  {
   "cell_type": "markdown",
   "id": "09313486-51e3-4679-8034-1311c57e1b21",
   "metadata": {},
   "source": [
    "### Trem com genexp"
   ]
  },
  {
   "cell_type": "code",
   "execution_count": 14,
   "id": "8c62a4b5-c786-4b19-a875-faa6bac355a2",
   "metadata": {},
   "outputs": [],
   "source": [
    "class Trem2:\n",
    "    def __init__(self, carros):\n",
    "        self.carros = carros\n",
    "    \n",
    "    def __iter__(self):\n",
    "        return (f'carro #{n}' for n in range(self.carros))"
   ]
  },
  {
   "cell_type": "code",
   "execution_count": 15,
   "id": "e3a8ace9-2271-4b89-af28-60e7d09caac8",
   "metadata": {},
   "outputs": [
    {
     "data": {
      "text/plain": [
       "<generator object Trem2.__iter__.<locals>.<genexpr> at 0x7b8c20295630>"
      ]
     },
     "execution_count": 15,
     "metadata": {},
     "output_type": "execute_result"
    }
   ],
   "source": [
    "trem = Trem2(3)\n",
    "\n",
    "iter(trem)"
   ]
  },
  {
   "cell_type": "code",
   "execution_count": 16,
   "id": "ab6b826d-a03a-453a-9cca-a4c72d9804c4",
   "metadata": {},
   "outputs": [
    {
     "name": "stdout",
     "output_type": "stream",
     "text": [
      "carro #0\n",
      "carro #1\n",
      "carro #2\n"
     ]
    }
   ],
   "source": [
    "for carro in trem:\n",
    "    print(carro)"
   ]
  },
  {
   "cell_type": "code",
   "execution_count": null,
   "id": "52469f9a-7262-465a-b165-65457527c52c",
   "metadata": {},
   "outputs": [],
   "source": []
  }
 ],
 "metadata": {
  "kernelspec": {
   "display_name": "Python 3 (ipykernel)",
   "language": "python",
   "name": "python3"
  },
  "language_info": {
   "codemirror_mode": {
    "name": "ipython",
    "version": 3
   },
   "file_extension": ".py",
   "mimetype": "text/x-python",
   "name": "python",
   "nbconvert_exporter": "python",
   "pygments_lexer": "ipython3",
   "version": "3.13.7"
  }
 },
 "nbformat": 4,
 "nbformat_minor": 5
}
