{
 "cells": [
  {
   "cell_type": "markdown",
   "id": "76aeb7c5-b142-42a8-ba24-3524a219435b",
   "metadata": {},
   "source": [
    "# As voltas de Liskov\n",
    "\n",
    "Revelando iteradores em Python\n",
    "\n",
    "## A instrução `for`\n",
    "\n",
    "### Problema\n",
    "\n",
    "Escreva um programa que exibe os argumentos passados na linha de comando:\n",
    "\n",
    "```shell\n",
    "$ ./args açaí banana carambola\n",
    "./args\n",
    "açaí\n",
    "banana\n",
    "carambola\n",
    "```\n",
    "\n",
    "### C\n",
    "\n",
    "```C\n",
    "#include <stdio.h>\n",
    "\n",
    "int main(int argc, char *argv[]) {\n",
    "    for(int i = 0; i < argc; i++)\n",
    "        printf(\"%s\\n\", argv[i]);\n",
    "    return 0;\n",
    "}\n",
    "```\n",
    "\n",
    "### Python\n",
    "\n",
    "```Python\n",
    "import sys\n",
    "\n",
    "for arg in sys.argv:\n",
    "    print arg\n",
    "```\n",
    "\n",
    "### Citação\n",
    "\n",
    "> Há 2 problemas difíceis em ciência da computação: invalidar cache, nomear coisas e errar por 1.\n",
    "<br>—*Leon Bambrick*\n",
    "\n",
    "Duas variantes de *erro-por-1* ao percorrer uma coleção em C:\n",
    "\n",
    "* laço termina no penúltimo item, o último é ignorado;\n",
    "* laço vai além do último item, acessando\n",
    "memória inválida, ou terminando com\n",
    "[*segfault*](https://pt.wikipedia.org/wiki/Falha_de_segmenta%C3%A7%C3%A3o)"
   ]
  },
  {
   "cell_type": "markdown",
   "id": "40c8ea13-44a3-4a48-9329-ab0b3796d3b3",
   "metadata": {},
   "source": [
    "## A solução geral: iteráveis e iteradores\n",
    "\n",
    "### Iteráveis\n",
    "\n",
    "**Comestível:** que pode ser comida\n",
    "\n",
    "**Legível:** que pode ser lida\n",
    "\n",
    "**Iterável:** que pode ser iterada (repetida)\n",
    "\n",
    "Em programação, **iterável** é uma coleção que pode ser acessada item a item em uma estrutura de iteração.\n",
    "\n",
    "Java não tinha o conceito de iterável até a versão 5 (2004). Python sempre teve, desde 1991.\n",
    "\n",
    "### Iterador\n",
    "\n",
    "Um objeto que implementa uma *interface padrão* para acessar o próximo item de uma coleção.\n",
    "\n",
    "Em Python, essa interface tem um método: `__next__` (que invocamos através de `next(coleção)`)"
   ]
  },
  {
   "cell_type": "markdown",
   "id": "a9477443-b1e3-4ee5-b4e3-2d4acf070591",
   "metadata": {},
   "source": [
    "## O padrão de projeto Iterator\n",
    "\n",
    "Fonte: [O Poder dos Geradores (16)](https://speakerdeck.com/ramalho/o-poder-dos-geradores?slide=16)\n",
    "\n",
    "<img src=\"iterator-gof.png\" style=\"width: 640px;\"/>\n",
    "\n",
    "<hr/>\n",
    "\n",
    "Fonte: [O Poder dos Geradores (17)](https://speakerdeck.com/ramalho/o-poder-dos-geradores?slide=17)\n",
    "\n",
    "<img src=\"iterator-poster.png\" style=\"width: 640px;\"/>"
   ]
  },
  {
   "cell_type": "markdown",
   "id": "2c1f139e-935f-44d9-86ea-ffc5ac82ca4e",
   "metadata": {},
   "source": [
    "### Implementação \"clássica\" de Iterator em Python\n",
    "\n",
    "(código não *pythônico* para ilustrar o padrão do GoF)"
   ]
  },
  {
   "cell_type": "code",
   "execution_count": 1,
   "id": "eaeeff31-cab9-4b15-bf9d-4bf1ba99bcd1",
   "metadata": {},
   "outputs": [],
   "source": [
    "class Trem:\n",
    "    def __init__(self, carros):\n",
    "        self.carros = carros\n",
    "    \n",
    "    def __iter__(self):\n",
    "        return IterTrem(self.carros)\n",
    "\n",
    "class IterTrem:\n",
    "    def __init__(self, carros):\n",
    "        self.próximo = 0\n",
    "        self.último = carros - 1\n",
    "    \n",
    "    def __next__(self):\n",
    "        if self.próximo <= self.último:\n",
    "            self.próximo += 1\n",
    "            return f'carro #{(self.próximo)}'\n",
    "        else:\n",
    "            raise StopIteration()"
   ]
  },
  {
   "cell_type": "code",
   "execution_count": 2,
   "id": "dfc07273-e245-4c5d-9c46-a67fd41d76b9",
   "metadata": {},
   "outputs": [
    {
     "name": "stdout",
     "output_type": "stream",
     "text": [
      "carro #1\n",
      "carro #2\n",
      "carro #3\n"
     ]
    }
   ],
   "source": [
    "trem = Trem(3)\n",
    "\n",
    "for carro in trem:\n",
    "    print(carro)"
   ]
  },
  {
   "cell_type": "markdown",
   "id": "92e95a12-bd8d-4df4-ab74-7782344e84de",
   "metadata": {},
   "source": [
    "### Citação\n",
    "\n",
    "> Por exemplo, no mundo da orientação a objetos, ouve-se muito sobre \"padrões\".\n",
    "> Me pergunto se esses padrões não são, às vezes, evidências [...] do *compilador humano* em ação.<br>\n",
    "> —*Paul Graham*\n",
    "\n",
    "Fonte: [Are Design Patterns Missing Language Features?](https://wiki.c2.com/?AreDesignPatternsMissingLanguageFeatures)\n",
    "(_Será que os padrões de projetos são recursos faltando em uma linguagem?_)"
   ]
  },
  {
   "cell_type": "markdown",
   "id": "a7c65706-5650-4fcf-9437-7fd6636a60a5",
   "metadata": {},
   "source": [
    "### Implementação pythônica"
   ]
  },
  {
   "cell_type": "code",
   "execution_count": 3,
   "id": "4521fdc0-bd23-42e7-96a0-16b20cc14f13",
   "metadata": {},
   "outputs": [],
   "source": [
    "class Trem:\n",
    "    def __init__(self, carros):\n",
    "        self.carros = carros\n",
    "    \n",
    "    def __iter__(self):\n",
    "        for n in range(self.carros):\n",
    "            yield f'carro #{n}'"
   ]
  },
  {
   "cell_type": "code",
   "execution_count": 4,
   "id": "99dd5300-b594-4ece-bbcd-cbd986f5a008",
   "metadata": {},
   "outputs": [
    {
     "name": "stdout",
     "output_type": "stream",
     "text": [
      "carro #0\n",
      "carro #1\n",
      "carro #2\n"
     ]
    }
   ],
   "source": [
    "trem = Trem(3)\n",
    "\n",
    "for carro in trem:\n",
    "    print(carro)"
   ]
  },
  {
   "cell_type": "markdown",
   "id": "10f88d61-fe21-4d26-9924-6f83817f992c",
   "metadata": {},
   "source": [
    "## Como funciona o yield"
   ]
  },
  {
   "cell_type": "code",
   "execution_count": 5,
   "id": "ad567f83-fa55-44f5-9019-ca59e3ebb1b7",
   "metadata": {},
   "outputs": [],
   "source": [
    "def gen123():\n",
    "    ..."
   ]
  },
  {
   "cell_type": "code",
   "execution_count": 6,
   "id": "5194978e-4092-44d9-8df3-ad116bb1ea9d",
   "metadata": {},
   "outputs": [],
   "source": [
    "def genAB():\n",
    "    ..."
   ]
  },
  {
   "cell_type": "markdown",
   "id": "357903f8-2e6c-4ad1-a337-1906aaab7ed3",
   "metadata": {},
   "source": [
    "### Reinventando xrange"
   ]
  },
  {
   "cell_type": "code",
   "execution_count": 7,
   "id": "e81d3de6-f26c-46df-8b03-a50e63086338",
   "metadata": {},
   "outputs": [],
   "source": [
    "def xrange(n):\n",
    "    i = 0\n",
    "    while i < n:\n",
    "        yield i\n",
    "        i += 1"
   ]
  },
  {
   "cell_type": "code",
   "execution_count": 8,
   "id": "2c1a9b8c-f973-4e21-b198-e20602da062c",
   "metadata": {},
   "outputs": [
    {
     "data": {
      "text/plain": [
       "[0, 1, 2, 3, 4, 5, 6, 7, 8, 9]"
      ]
     },
     "execution_count": 8,
     "metadata": {},
     "output_type": "execute_result"
    }
   ],
   "source": [
    "list(xrange(10))"
   ]
  },
  {
   "cell_type": "markdown",
   "id": "a908bdd8-66f0-4f6d-bb47-9520b7d77517",
   "metadata": {},
   "source": [
    "## A história do yield\n",
    "\n",
    "Fonte: [Generator Power (11)](https://speakerdeck.com/ramalho/python-generator-power?slide=11)\n",
    "\n",
    "<img src=\"liskov-CLU.png\" style=\"width: 640px;\"/>"
   ]
  },
  {
   "cell_type": "markdown",
   "id": "71d8294f-510e-41f3-a749-b13b99773c92",
   "metadata": {},
   "source": [
    "### Homenageadas com o prêmio Turing até 2025\n",
    "\n",
    "* **Frances E. Allen (2006):** teoria e prática de otimização de compiladores.\n",
    "* **[Barbara Liskov (2008)](https://amturing.acm.org/award_winners/liskov_1108679.cfm):** fundamentos de linguagens de programação (tipos abstratos) e sistemas distribuídos tolerantes a falha.\n",
    "* **Shafi Goldwasser (2012):** fundamentos teóricos para a criptografia, incluindo criptografia probabilística.\n"
   ]
  },
  {
   "cell_type": "markdown",
   "id": "209a62c2-5871-4de4-8c91-e889350db5ae",
   "metadata": {},
   "source": [
    "### A linguagem CLU\n",
    "\n",
    "A definição de um novo tipo é um *cluster* (semelhante a classe, antes de existir OOP).\n",
    "\n",
    "> Objetos do subtipo devem se comportar da mesma forma que os do supertipo,<br>\n",
    "> até onde qualquer programa que use objetos do supertipo possa perceber.<br>\n",
    "> —*Princípio da substituição de Liskov*\n",
    "\n",
    "Outras características que influenciaram linguagens atuais:\n",
    "\n",
    "* exceções com `signal/except`\n",
    "* atribuição paralela: `x,y,z := f(t)`\n",
    "* iteradores com `yield`\n",
    "\n",
    "Fonte: [Generator Power (12)](https://speakerdeck.com/ramalho/python-generator-power?slide=12)\n",
    "\n",
    "<img src=\"liskov-yield-for.png\" style=\"width: 640px;\"/>"
   ]
  },
  {
   "cell_type": "markdown",
   "id": "a0f82009-b03b-4609-9555-e065d66c8c7b",
   "metadata": {},
   "source": [
    "## Iteradores/geradores de Python\n",
    "\n",
    "```\n",
    "iterador ≈ gerador  # sinônimos na comunidade Python\n",
    "```\n",
    "\n",
    "Uso _gerador_ quando se trata de séries infinitas. Ex: gerador de números de Fibonacci.\n",
    "\n",
    "### Como gerar uma série de números?\n",
    "\n",
    "```C\n",
    "    for(int i = 0; i < stop; i++)\n",
    "        ...\n",
    "```\n",
    "\n",
    "```python\n",
    "    for i in range(stop):\n",
    "        ...\n",
    "```\n",
    "\n",
    "### Como numerar uma série de itens?\n",
    "\n",
    "Vamos reinventar `enumerate`:"
   ]
  },
  {
   "cell_type": "code",
   "execution_count": null,
   "id": "0aee6aa8-1443-4f5c-aa42-5ca71bc256e1",
   "metadata": {},
   "outputs": [],
   "source": []
  },
  {
   "cell_type": "markdown",
   "id": "55dc7963-1be6-4b52-8f47-1180e916731b",
   "metadata": {},
   "source": [
    "### Como percorrer duas coleções em paralelo?\n",
    "\n",
    "Vamos reinventar `zip`:"
   ]
  },
  {
   "cell_type": "code",
   "execution_count": null,
   "id": "f7e9516a-62dd-4252-8792-032a4454bea4",
   "metadata": {},
   "outputs": [],
   "source": []
  }
 ],
 "metadata": {
  "kernelspec": {
   "display_name": "Python 3 (ipykernel)",
   "language": "python",
   "name": "python3"
  },
  "language_info": {
   "codemirror_mode": {
    "name": "ipython",
    "version": 3
   },
   "file_extension": ".py",
   "mimetype": "text/x-python",
   "name": "python",
   "nbconvert_exporter": "python",
   "pygments_lexer": "ipython3",
   "version": "3.14.0rc1"
  }
 },
 "nbformat": 4,
 "nbformat_minor": 5
}
